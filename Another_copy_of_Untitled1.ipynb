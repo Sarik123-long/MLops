{
  "nbformat": 4,
  "nbformat_minor": 0,
  "metadata": {
    "colab": {
      "provenance": []
    },
    "kernelspec": {
      "name": "python3",
      "display_name": "Python 3"
    },
    "language_info": {
      "name": "python"
    }
  },
  "cells": [
    {
      "cell_type": "code",
      "execution_count": null,
      "metadata": {
        "colab": {
          "base_uri": "https://localhost:8080/"
        },
        "id": "5h3THEmqAqIm",
        "outputId": "93a5c6ed-a7e1-4095-f8b9-84ba38144742"
      },
      "outputs": [
        {
          "output_type": "stream",
          "name": "stdout",
          "text": [
            "Resizing complete. Images saved.\n"
          ]
        }
      ],
      "source": [
        "#Experiment 1: Image Resizing – Binary, Grayscale, and Color\n",
        "# Objective: To resize binary, grayscale, and color images using\n",
        "#different interpolation methods.\n",
        "import cv2\n",
        "import numpy as np\n",
        "\n",
        "# Load images\n",
        "gray_img = cv2.imread('gray_image.jpg', cv2.IMREAD_GRAYSCALE)\n",
        "color_img = cv2.imread('color_image.jpg')\n",
        "binary_img = cv2.threshold(gray_img, 127, 255, cv2.THRESH_BINARY)[1]\n",
        "\n",
        "# Resize dimensions\n",
        "new_size = (200, 150)\n",
        "\n",
        "# Resize with different interpolation methods\n",
        "resized_gray = cv2.resize(gray_img, new_size, interpolation=cv2.INTER_LINEAR)\n",
        "resized_color = cv2.resize(color_img, new_size, interpolation=cv2.INTER_CUBIC)\n",
        "resized_binary = cv2.resize(binary_img, new_size, interpolation=cv2.INTER_NEAREST)\n",
        "resized_binary = cv2.resize(gray_img, new_size, interpolation=cv2.INTER_LANCZOS4)\n",
        "# Save results\n",
        "cv2.imwrite('resized_gray.jpg', resized_gray)\n",
        "cv2.imwrite('resized_color.jpg', resized_color)\n",
        "cv2.imwrite('resized_binary.jpg', resized_binary)\n",
        "cv2.imwrite('resized_binary.jpg', resized_gray)\n",
        "\n",
        "\n",
        "print(\"Resizing complete. Images saved.\")"
      ]
    },
    {
      "cell_type": "code",
      "source": [
        "#Experiment 2: Image Rotation – Binary, Grayscale, and Color\n",
        "# Objective: To rotate binary, grayscale, and color images by a\n",
        "#specific angle using affine transformations.\n",
        "import cv2\n",
        "import numpy as np\n",
        "\n",
        "# Load images\n",
        "gray_img = cv2.imread('gray_image.jpg', cv2.IMREAD_GRAYSCALE)\n",
        "color_img = cv2.imread('color_image.jpg')\n",
        "binary_img = cv2.threshold(gray_img, 127, 255, cv2.THRESH_BINARY)[1]\n",
        "pixel_imag = cv2.imread('pixel_image.jpg')\n",
        "# Get image center\n",
        "def rotate_image(image, angle):\n",
        "    (h, w) = image.shape[:2]\n",
        "    center = (w // 2, h // 2)\n",
        "    matrix = cv2.getRotationMatrix2D(center, angle, 1.0)\n",
        "    return cv2.warpAffine(image, matrix, (w, h))\n",
        "\n",
        "# Rotate all images by 45 degrees\n",
        "rotated_gray = rotate_image(gray_img, 40)\n",
        "rotated_color = rotate_image(color_img, 45)\n",
        "rotated_binary = rotate_image(binary_img, 45)\n",
        "rotated_pixel = rotate_image(pixel_imag, 40)\n",
        "# Save results\n",
        "cv2.imwrite('rotated_gray.jpg', rotated_gray)\n",
        "cv2.imwrite('rotated_color.jpg', rotated_color)\n",
        "cv2.imwrite('rotated_binary.jpg', rotated_binary)\n",
        "cv2.imwrite('rotated_pixel.jpg', rotated_pixel)\n",
        "print(\"Rotation complete. Images saved.\")"
      ],
      "metadata": {
        "colab": {
          "base_uri": "https://localhost:8080/",
          "height": 332
        },
        "id": "56fAps3VBDY4",
        "outputId": "8b5fecb6-0c08-4983-ae95-23f235bb82b0"
      },
      "execution_count": null,
      "outputs": [
        {
          "output_type": "error",
          "ename": "AttributeError",
          "evalue": "'NoneType' object has no attribute 'shape'",
          "traceback": [
            "\u001b[0;31m---------------------------------------------------------------------------\u001b[0m",
            "\u001b[0;31mAttributeError\u001b[0m                            Traceback (most recent call last)",
            "\u001b[0;32m/tmp/ipython-input-13-2603256339.py\u001b[0m in \u001b[0;36m<cell line: 0>\u001b[0;34m()\u001b[0m\n\u001b[1;32m     23\u001b[0m \u001b[0mrotated_binary\u001b[0m \u001b[0;34m=\u001b[0m \u001b[0mrotate_image\u001b[0m\u001b[0;34m(\u001b[0m\u001b[0mbinary_img\u001b[0m\u001b[0;34m,\u001b[0m \u001b[0;36m45\u001b[0m\u001b[0;34m)\u001b[0m\u001b[0;34m\u001b[0m\u001b[0;34m\u001b[0m\u001b[0m\n\u001b[1;32m     24\u001b[0m \u001b[0mrotated_pixel\u001b[0m \u001b[0;34m=\u001b[0m \u001b[0mrotate_image\u001b[0m\u001b[0;34m(\u001b[0m\u001b[0mpixel_imag\u001b[0m\u001b[0;34m,\u001b[0m \u001b[0;36m40\u001b[0m\u001b[0;34m)\u001b[0m\u001b[0;34m\u001b[0m\u001b[0;34m\u001b[0m\u001b[0m\n\u001b[0;32m---> 25\u001b[0;31m \u001b[0mrotated_butterfly\u001b[0m \u001b[0;34m=\u001b[0m \u001b[0mrotate_image\u001b[0m\u001b[0;34m(\u001b[0m\u001b[0mbutterfly_img\u001b[0m\u001b[0;34m,\u001b[0m \u001b[0;36m50\u001b[0m\u001b[0;34m)\u001b[0m\u001b[0;34m\u001b[0m\u001b[0;34m\u001b[0m\u001b[0m\n\u001b[0m\u001b[1;32m     26\u001b[0m \u001b[0;31m# Save results\u001b[0m\u001b[0;34m\u001b[0m\u001b[0;34m\u001b[0m\u001b[0m\n\u001b[1;32m     27\u001b[0m \u001b[0mcv2\u001b[0m\u001b[0;34m.\u001b[0m\u001b[0mimwrite\u001b[0m\u001b[0;34m(\u001b[0m\u001b[0;34m'rotated_gray.jpg'\u001b[0m\u001b[0;34m,\u001b[0m \u001b[0mrotated_gray\u001b[0m\u001b[0;34m)\u001b[0m\u001b[0;34m\u001b[0m\u001b[0;34m\u001b[0m\u001b[0m\n",
            "\u001b[0;32m/tmp/ipython-input-13-2603256339.py\u001b[0m in \u001b[0;36mrotate_image\u001b[0;34m(image, angle)\u001b[0m\n\u001b[1;32m     13\u001b[0m \u001b[0;31m# Get image center\u001b[0m\u001b[0;34m\u001b[0m\u001b[0;34m\u001b[0m\u001b[0m\n\u001b[1;32m     14\u001b[0m \u001b[0;32mdef\u001b[0m \u001b[0mrotate_image\u001b[0m\u001b[0;34m(\u001b[0m\u001b[0mimage\u001b[0m\u001b[0;34m,\u001b[0m \u001b[0mangle\u001b[0m\u001b[0;34m)\u001b[0m\u001b[0;34m:\u001b[0m\u001b[0;34m\u001b[0m\u001b[0;34m\u001b[0m\u001b[0m\n\u001b[0;32m---> 15\u001b[0;31m     \u001b[0;34m(\u001b[0m\u001b[0mh\u001b[0m\u001b[0;34m,\u001b[0m \u001b[0mw\u001b[0m\u001b[0;34m)\u001b[0m \u001b[0;34m=\u001b[0m \u001b[0mimage\u001b[0m\u001b[0;34m.\u001b[0m\u001b[0mshape\u001b[0m\u001b[0;34m[\u001b[0m\u001b[0;34m:\u001b[0m\u001b[0;36m2\u001b[0m\u001b[0;34m]\u001b[0m\u001b[0;34m\u001b[0m\u001b[0;34m\u001b[0m\u001b[0m\n\u001b[0m\u001b[1;32m     16\u001b[0m     \u001b[0mcenter\u001b[0m \u001b[0;34m=\u001b[0m \u001b[0;34m(\u001b[0m\u001b[0mw\u001b[0m \u001b[0;34m//\u001b[0m \u001b[0;36m2\u001b[0m\u001b[0;34m,\u001b[0m \u001b[0mh\u001b[0m \u001b[0;34m//\u001b[0m \u001b[0;36m2\u001b[0m\u001b[0;34m)\u001b[0m\u001b[0;34m\u001b[0m\u001b[0;34m\u001b[0m\u001b[0m\n\u001b[1;32m     17\u001b[0m     \u001b[0mmatrix\u001b[0m \u001b[0;34m=\u001b[0m \u001b[0mcv2\u001b[0m\u001b[0;34m.\u001b[0m\u001b[0mgetRotationMatrix2D\u001b[0m\u001b[0;34m(\u001b[0m\u001b[0mcenter\u001b[0m\u001b[0;34m,\u001b[0m \u001b[0mangle\u001b[0m\u001b[0;34m,\u001b[0m \u001b[0;36m1.0\u001b[0m\u001b[0;34m)\u001b[0m\u001b[0;34m\u001b[0m\u001b[0;34m\u001b[0m\u001b[0m\n",
            "\u001b[0;31mAttributeError\u001b[0m: 'NoneType' object has no attribute 'shape'"
          ]
        }
      ]
    }
  ]
}